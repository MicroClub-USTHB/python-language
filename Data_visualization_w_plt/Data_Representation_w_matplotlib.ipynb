{
  "nbformat": 4,
  "nbformat_minor": 0,
  "metadata": {
    "colab": {
      "name": "Data_Representation_w_matplotlib.ipynb",
      "provenance": []
    },
    "kernelspec": {
      "name": "python3",
      "display_name": "Python 3"
    }
  },
  "cells": [
    {
      "cell_type": "markdown",
      "metadata": {
        "id": "Fveo_-McRSJC"
      },
      "source": [
        "# **Intro**\n",
        "In this notebook we are taking a overall look at recent data regarding Covid 19 stats accross different countries.\n",
        "The csv file used for this code it available on [kaggle](https://www.kaggle.com/themlphdstudent/novel-covid19-dataset)\n",
        "\n",
        "* To get an easy clear of the important information transmitted by this data we will be visualizing it using **matplotlib** . It countains a list of countries with the last reported numbers of **deaths**,  **confirmed case** and **recoveries**"
      ]
    },
    {
      "cell_type": "code",
      "metadata": {
        "id": "_lqvMKP4RIu4",
        "outputId": "9d8bd74c-7cf4-40ea-95c0-2813001ec759",
        "colab": {
          "base_uri": "https://localhost:8080/"
        }
      },
      "source": [
        "import pandas as pd \n",
        "df=pd.read_csv('cases_country.csv')\n",
        "df.shape"
      ],
      "execution_count": 10,
      "outputs": [
        {
          "output_type": "execute_result",
          "data": {
            "text/plain": [
              "(189, 14)"
            ]
          },
          "metadata": {
            "tags": []
          },
          "execution_count": 10
        }
      ]
    },
    {
      "cell_type": "code",
      "metadata": {
        "id": "bmKJv9IKS60L",
        "outputId": "dddeff04-a525-4172-c5cd-d9273818b1d1",
        "colab": {
          "base_uri": "https://localhost:8080/",
          "height": 309
        }
      },
      "source": [
        "df.head(5)"
      ],
      "execution_count": 11,
      "outputs": [
        {
          "output_type": "execute_result",
          "data": {
            "text/html": [
              "<div>\n",
              "<style scoped>\n",
              "    .dataframe tbody tr th:only-of-type {\n",
              "        vertical-align: middle;\n",
              "    }\n",
              "\n",
              "    .dataframe tbody tr th {\n",
              "        vertical-align: top;\n",
              "    }\n",
              "\n",
              "    .dataframe thead th {\n",
              "        text-align: right;\n",
              "    }\n",
              "</style>\n",
              "<table border=\"1\" class=\"dataframe\">\n",
              "  <thead>\n",
              "    <tr style=\"text-align: right;\">\n",
              "      <th></th>\n",
              "      <th>Country_Region</th>\n",
              "      <th>Last_Update</th>\n",
              "      <th>Lat</th>\n",
              "      <th>Long_</th>\n",
              "      <th>Confirmed</th>\n",
              "      <th>Deaths</th>\n",
              "      <th>Recovered</th>\n",
              "      <th>Active</th>\n",
              "      <th>Incident_Rate</th>\n",
              "      <th>People_Tested</th>\n",
              "      <th>People_Hospitalized</th>\n",
              "      <th>Mortality_Rate</th>\n",
              "      <th>UID</th>\n",
              "      <th>ISO3</th>\n",
              "    </tr>\n",
              "  </thead>\n",
              "  <tbody>\n",
              "    <tr>\n",
              "      <th>0</th>\n",
              "      <td>Afghanistan</td>\n",
              "      <td>2020-10-25 03:24:28</td>\n",
              "      <td>33.93911</td>\n",
              "      <td>67.709953</td>\n",
              "      <td>40768.0</td>\n",
              "      <td>1511.0</td>\n",
              "      <td>34023.0</td>\n",
              "      <td>5234.0</td>\n",
              "      <td>104.725758</td>\n",
              "      <td>NaN</td>\n",
              "      <td>NaN</td>\n",
              "      <td>3.706338</td>\n",
              "      <td>4</td>\n",
              "      <td>AFG</td>\n",
              "    </tr>\n",
              "    <tr>\n",
              "      <th>1</th>\n",
              "      <td>Albania</td>\n",
              "      <td>2020-10-25 03:24:28</td>\n",
              "      <td>41.15330</td>\n",
              "      <td>20.168300</td>\n",
              "      <td>18858.0</td>\n",
              "      <td>473.0</td>\n",
              "      <td>10548.0</td>\n",
              "      <td>7837.0</td>\n",
              "      <td>655.292237</td>\n",
              "      <td>NaN</td>\n",
              "      <td>NaN</td>\n",
              "      <td>2.508219</td>\n",
              "      <td>8</td>\n",
              "      <td>ALB</td>\n",
              "    </tr>\n",
              "    <tr>\n",
              "      <th>2</th>\n",
              "      <td>Algeria</td>\n",
              "      <td>2020-10-25 03:24:28</td>\n",
              "      <td>28.03390</td>\n",
              "      <td>1.659600</td>\n",
              "      <td>55880.0</td>\n",
              "      <td>1907.0</td>\n",
              "      <td>38932.0</td>\n",
              "      <td>15041.0</td>\n",
              "      <td>127.431405</td>\n",
              "      <td>NaN</td>\n",
              "      <td>NaN</td>\n",
              "      <td>3.412670</td>\n",
              "      <td>12</td>\n",
              "      <td>DZA</td>\n",
              "    </tr>\n",
              "    <tr>\n",
              "      <th>3</th>\n",
              "      <td>Andorra</td>\n",
              "      <td>2020-10-25 03:24:28</td>\n",
              "      <td>42.50630</td>\n",
              "      <td>1.521800</td>\n",
              "      <td>4038.0</td>\n",
              "      <td>69.0</td>\n",
              "      <td>2729.0</td>\n",
              "      <td>1240.0</td>\n",
              "      <td>5226.169676</td>\n",
              "      <td>NaN</td>\n",
              "      <td>NaN</td>\n",
              "      <td>1.708767</td>\n",
              "      <td>20</td>\n",
              "      <td>AND</td>\n",
              "    </tr>\n",
              "    <tr>\n",
              "      <th>4</th>\n",
              "      <td>Angola</td>\n",
              "      <td>2020-10-25 03:24:28</td>\n",
              "      <td>-11.20270</td>\n",
              "      <td>17.873900</td>\n",
              "      <td>9026.0</td>\n",
              "      <td>267.0</td>\n",
              "      <td>3461.0</td>\n",
              "      <td>5298.0</td>\n",
              "      <td>27.462808</td>\n",
              "      <td>NaN</td>\n",
              "      <td>NaN</td>\n",
              "      <td>2.958121</td>\n",
              "      <td>24</td>\n",
              "      <td>AGO</td>\n",
              "    </tr>\n",
              "  </tbody>\n",
              "</table>\n",
              "</div>"
            ],
            "text/plain": [
              "  Country_Region          Last_Update       Lat  ...  Mortality_Rate  UID  ISO3\n",
              "0    Afghanistan  2020-10-25 03:24:28  33.93911  ...        3.706338    4   AFG\n",
              "1        Albania  2020-10-25 03:24:28  41.15330  ...        2.508219    8   ALB\n",
              "2        Algeria  2020-10-25 03:24:28  28.03390  ...        3.412670   12   DZA\n",
              "3        Andorra  2020-10-25 03:24:28  42.50630  ...        1.708767   20   AND\n",
              "4         Angola  2020-10-25 03:24:28 -11.20270  ...        2.958121   24   AGO\n",
              "\n",
              "[5 rows x 14 columns]"
            ]
          },
          "metadata": {
            "tags": []
          },
          "execution_count": 11
        }
      ]
    },
    {
      "cell_type": "code",
      "metadata": {
        "id": "XZVtCyqZS_wN",
        "outputId": "d88d2b9b-a5bf-4e05-c197-e57c53bdfd79",
        "colab": {
          "base_uri": "https://localhost:8080/"
        }
      },
      "source": [
        "df.isnull().sum()"
      ],
      "execution_count": 12,
      "outputs": [
        {
          "output_type": "execute_result",
          "data": {
            "text/plain": [
              "Country_Region           0\n",
              "Last_Update              0\n",
              "Lat                      2\n",
              "Long_                    2\n",
              "Confirmed                0\n",
              "Deaths                   0\n",
              "Recovered                3\n",
              "Active                   0\n",
              "Incident_Rate            2\n",
              "People_Tested          189\n",
              "People_Hospitalized    189\n",
              "Mortality_Rate           0\n",
              "UID                      0\n",
              "ISO3                     2\n",
              "dtype: int64"
            ]
          },
          "metadata": {
            "tags": []
          },
          "execution_count": 12
        }
      ]
    },
    {
      "cell_type": "code",
      "metadata": {
        "id": "vNeFDTscTOBS",
        "outputId": "fed84a3c-d8f7-4528-a504-bfd5a317849d",
        "colab": {
          "base_uri": "https://localhost:8080/"
        }
      },
      "source": [
        "df=df.drop('People_Tested',axis=1)\n",
        "df=df.drop('People_Hospitalized',axis=1)\n",
        "df.shape"
      ],
      "execution_count": 13,
      "outputs": [
        {
          "output_type": "execute_result",
          "data": {
            "text/plain": [
              "(189, 12)"
            ]
          },
          "metadata": {
            "tags": []
          },
          "execution_count": 13
        }
      ]
    },
    {
      "cell_type": "markdown",
      "metadata": {
        "id": "6cNu2dxBTqR9"
      },
      "source": [
        "## **I- Recovery and deaths for a given country**"
      ]
    },
    {
      "cell_type": "code",
      "metadata": {
        "id": "bzm8tJs8UA6p",
        "outputId": "9f1bf132-4ef8-4c7a-a63e-775357247b62",
        "colab": {
          "base_uri": "https://localhost:8080/",
          "height": 280
        }
      },
      "source": [
        "for i,rows in df.iterrows():\n",
        "  if df.loc[i,'Country_Region'] == \"Algeria\" :\n",
        "    death=df.loc[i,'Deaths']\n",
        "    recovery=df.loc[i,'Recovered']\n",
        "    confirmed=df.loc[i,'Confirmed']\n",
        "  \n",
        "x=[death,recovery]\n",
        "y=['deaths','recovery']\n",
        "color=['red','green']\n",
        "import matplotlib.pyplot as plt\n",
        "fig1, ax1 = plt.subplots()\n",
        "ax1.pie(x, labels=y, autopct='%1.1f%%',\n",
        "        shadow=True, startangle=90,colors=color)\n",
        "ax1.axis('equal')  # Equal aspect ratio ensures that pie is drawn as a circle.\n",
        "fig1.suptitle('Algerian covid cases',fontweight='bold')\n",
        "plt.show()"
      ],
      "execution_count": 27,
      "outputs": [
        {
          "output_type": "display_data",
          "data": {
            "image/png": "[encoded data removed]",
            "text/plain": [
              "<Figure size 432x288 with 1 Axes>"
            ]
          },
          "metadata": {
            "tags": []
          }
        }
      ]
    },
    {
      "cell_type": "markdown",
      "metadata": {
        "id": "ygoaKY9hYVKS"
      },
      "source": [
        "# **II- Histogram of different countries**"
      ]
    },
    {
      "cell_type": "code",
      "metadata": {
        "id": "x7sN1a5XYdGm",
        "outputId": "bfdde7c6-4bb5-4321-e20a-562be2a8c888",
        "colab": {
          "base_uri": "https://localhost:8080/",
          "height": 463
        }
      },
      "source": [
        "#Confirmed cases for 5 countries \n",
        "confirmed_by_country={'Algeria':0,'Belgium':0,'Spain':0,'Brazil':0,'Australia':0}\n",
        "for i,rows in df.iterrows():\n",
        "  country=df.loc[i,'Country_Region']\n",
        "  if country in confirmed_by_country.keys():\n",
        "    confirmed_by_country[country]=df.loc[i,'Confirmed']\n",
        "print(confirmed_by_country) \n",
        "x = [1,2,3,4,5]\n",
        "plt.bar(x, height=confirmed_by_country.values())\n",
        "plt.xticks(x, confirmed_by_country.keys())"
      ],
      "execution_count": 49,
      "outputs": [
        {
          "output_type": "stream",
          "text": [
            "{'Algeria': 55880.0, 'Belgium': 305409.0, 'Spain': 1046132.0, 'Brazil': 5380635.0, 'Australia': 27513.0}\n"
          ],
          "name": "stdout"
        },
        {
          "output_type": "execute_result",
          "data": {
            "text/plain": [
              "([<matplotlib.axis.XTick at 0x7f73e1a80518>,\n",
              "  <matplotlib.axis.XTick at 0x7f73e1a80550>,\n",
              "  <matplotlib.axis.XTick at 0x7f73e1a906d8>,\n",
              "  <matplotlib.axis.XTick at 0x7f73e1e33908>,\n",
              "  <matplotlib.axis.XTick at 0x7f73e1e33da0>],\n",
              " [Text(0, 0, 'Algeria'),\n",
              "  Text(0, 0, 'Belgium'),\n",
              "  Text(0, 0, 'Spain'),\n",
              "  Text(0, 0, 'Brazil'),\n",
              "  Text(0, 0, 'Australia')])"
            ]
          },
          "metadata": {
            "tags": []
          },
          "execution_count": 49
        },
        {
          "output_type": "display_data",
          "data": {
            "image/png": "[encoded data removed]",
            "text/plain": [
              "<Figure size 432x288 with 1 Axes>"
            ]
          },
          "metadata": {
            "tags": [],
            "needs_background": "light"
          }
        }
      ]
    },
    {
      "cell_type": "code",
      "metadata": {
        "id": "tr-hSq9edTKH",
        "outputId": "a5fe20a0-98a3-4868-93eb-23bceb545ec6",
        "colab": {
          "base_uri": "https://localhost:8080/",
          "height": 463
        }
      },
      "source": [
        "#dead cases for 5 countries \n",
        "confirmed_by_country={'Algeria':0,'Belgium':0,'Spain':0,'Brazil':0,'Australia':0}\n",
        "for i,rows in df.iterrows():\n",
        "  country=df.loc[i,'Country_Region']\n",
        "  if country in confirmed_by_country.keys():\n",
        "    confirmed_by_country[country]=df.loc[i,'Recovered']\n",
        "print(confirmed_by_country) \n",
        "x = [1,2,3,4,5]\n",
        "plt.bar(x, height=confirmed_by_country.values())\n",
        "plt.xticks(x, confirmed_by_country.keys())"
      ],
      "execution_count": 52,
      "outputs": [
        {
          "output_type": "stream",
          "text": [
            "{'Algeria': 38932.0, 'Belgium': 22878.0, 'Spain': 150376.0, 'Brazil': 4526393.0, 'Australia': 25179.0}\n"
          ],
          "name": "stdout"
        },
        {
          "output_type": "execute_result",
          "data": {
            "text/plain": [
              "([<matplotlib.axis.XTick at 0x7f73e1c5bb00>,\n",
              "  <matplotlib.axis.XTick at 0x7f73e1c5bac8>,\n",
              "  <matplotlib.axis.XTick at 0x7f73e1c5b710>,\n",
              "  <matplotlib.axis.XTick at 0x7f73e2027128>,\n",
              "  <matplotlib.axis.XTick at 0x7f73e2027550>],\n",
              " [Text(0, 0, 'Algeria'),\n",
              "  Text(0, 0, 'Belgium'),\n",
              "  Text(0, 0, 'Spain'),\n",
              "  Text(0, 0, 'Brazil'),\n",
              "  Text(0, 0, 'Australia')])"
            ]
          },
          "metadata": {
            "tags": []
          },
          "execution_count": 52
        },
        {
          "output_type": "display_data",
          "data": {
            "image/png": "[encoded data removed]",
            "text/plain": [
              "<Figure size 432x288 with 1 Axes>"
            ]
          },
          "metadata": {
            "tags": [],
            "needs_background": "light"
          }
        }
      ]
    }
  ]
}