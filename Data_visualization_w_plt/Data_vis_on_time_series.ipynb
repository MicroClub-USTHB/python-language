{
  "nbformat": 4,
  "nbformat_minor": 0,
  "metadata": {
    "colab": {
      "name": "Data_vis_on_time_series.ipynb",
      "provenance": []
    },
    "kernelspec": {
      "name": "python3",
      "display_name": "Python 3"
    }
  },
  "cells": [
    {
      "cell_type": "markdown",
      "metadata": {
        "id": "CT2se4lHclID"
      },
      "source": [
        "\n",
        "\n"
      ]
    },
    {
      "cell_type": "code",
      "metadata": {
        "id": "z9CyNvkVcgDd"
      },
      "source": [
        "import numpy as np\n",
        "import math\n",
        "import matplotlib.pyplot as plt \n",
        "import pandas as pd"
      ],
      "execution_count": 37,
      "outputs": []
    },
    {
      "cell_type": "code",
      "metadata": {
        "id": "Yztoj4GvdD4C",
        "outputId": "bdd3ddb7-7569-4b17-88f4-4403b54dc61d",
        "colab": {
          "base_uri": "https://localhost:8080/"
        }
      },
      "source": [
        "df_confirmed=pd.read_csv('time_series_covid19_confirmed_global.csv')\n",
        "df_confirmed.shape"
      ],
      "execution_count": 38,
      "outputs": [
        {
          "output_type": "execute_result",
          "data": {
            "text/plain": [
              "(267, 280)"
            ]
          },
          "metadata": {
            "tags": []
          },
          "execution_count": 38
        }
      ]
    },
    {
      "cell_type": "code",
      "metadata": {
        "id": "tIMwG9KDdQPO",
        "outputId": "1337563f-1128-4c85-f9ee-c6c0d804673b",
        "colab": {
          "base_uri": "https://localhost:8080/",
          "height": 246
        }
      },
      "source": [
        "df_confirmed.head(5)"
      ],
      "execution_count": 39,
      "outputs": [
        {
          "output_type": "execute_result",
          "data": {
            "text/html": [
              "<div>\n",
              "<style scoped>\n",
              "    .dataframe tbody tr th:only-of-type {\n",
              "        vertical-align: middle;\n",
              "    }\n",
              "\n",
              "    .dataframe tbody tr th {\n",
              "        vertical-align: top;\n",
              "    }\n",
              "\n",
              "    .dataframe thead th {\n",
              "        text-align: right;\n",
              "    }\n",
              "</style>\n",
              "<table border=\"1\" class=\"dataframe\">\n",
              "  <thead>\n",
              "    <tr style=\"text-align: right;\">\n",
              "      <th></th>\n",
              "      <th>Province/State</th>\n",
              "      <th>Country/Region</th>\n",
              "      <th>Lat</th>\n",
              "      <th>Long</th>\n",
              "      <th>1/22/20</th>\n",
              "      <th>1/23/20</th>\n",
              "      <th>1/24/20</th>\n",
              "      <th>1/25/20</th>\n",
              "      <th>1/26/20</th>\n",
              "      <th>1/27/20</th>\n",
              "      <th>1/28/20</th>\n",
              "      <th>1/29/20</th>\n",
              "      <th>1/30/20</th>\n",
              "      <th>1/31/20</th>\n",
              "      <th>2/1/20</th>\n",
              "      <th>2/2/20</th>\n",
              "      <th>2/3/20</th>\n",
              "      <th>2/4/20</th>\n",
              "      <th>2/5/20</th>\n",
              "      <th>2/6/20</th>\n",
              "      <th>2/7/20</th>\n",
              "      <th>2/8/20</th>\n",
              "      <th>2/9/20</th>\n",
              "      <th>2/10/20</th>\n",
              "      <th>2/11/20</th>\n",
              "      <th>2/12/20</th>\n",
              "      <th>2/13/20</th>\n",
              "      <th>2/14/20</th>\n",
              "      <th>2/15/20</th>\n",
              "      <th>2/16/20</th>\n",
              "      <th>2/17/20</th>\n",
              "      <th>2/18/20</th>\n",
              "      <th>2/19/20</th>\n",
              "      <th>2/20/20</th>\n",
              "      <th>2/21/20</th>\n",
              "      <th>2/22/20</th>\n",
              "      <th>2/23/20</th>\n",
              "      <th>2/24/20</th>\n",
              "      <th>2/25/20</th>\n",
              "      <th>2/26/20</th>\n",
              "      <th>...</th>\n",
              "      <th>9/14/20</th>\n",
              "      <th>9/15/20</th>\n",
              "      <th>9/16/20</th>\n",
              "      <th>9/17/20</th>\n",
              "      <th>9/18/20</th>\n",
              "      <th>9/19/20</th>\n",
              "      <th>9/20/20</th>\n",
              "      <th>9/21/20</th>\n",
              "      <th>9/22/20</th>\n",
              "      <th>9/23/20</th>\n",
              "      <th>9/24/20</th>\n",
              "      <th>9/25/20</th>\n",
              "      <th>9/26/20</th>\n",
              "      <th>9/27/20</th>\n",
              "      <th>9/28/20</th>\n",
              "      <th>9/29/20</th>\n",
              "      <th>9/30/20</th>\n",
              "      <th>10/1/20</th>\n",
              "      <th>10/2/20</th>\n",
              "      <th>10/3/20</th>\n",
              "      <th>10/4/20</th>\n",
              "      <th>10/5/20</th>\n",
              "      <th>10/6/20</th>\n",
              "      <th>10/7/20</th>\n",
              "      <th>10/8/20</th>\n",
              "      <th>10/9/20</th>\n",
              "      <th>10/10/20</th>\n",
              "      <th>10/11/20</th>\n",
              "      <th>10/12/20</th>\n",
              "      <th>10/13/20</th>\n",
              "      <th>10/14/20</th>\n",
              "      <th>10/15/20</th>\n",
              "      <th>10/16/20</th>\n",
              "      <th>10/17/20</th>\n",
              "      <th>10/18/20</th>\n",
              "      <th>10/19/20</th>\n",
              "      <th>10/20/20</th>\n",
              "      <th>10/21/20</th>\n",
              "      <th>10/22/20</th>\n",
              "      <th>10/23/20</th>\n",
              "    </tr>\n",
              "  </thead>\n",
              "  <tbody>\n",
              "    <tr>\n",
              "      <th>0</th>\n",
              "      <td>NaN</td>\n",
              "      <td>Afghanistan</td>\n",
              "      <td>33.93911</td>\n",
              "      <td>67.709953</td>\n",
              "      <td>0</td>\n",
              "      <td>0</td>\n",
              "      <td>0</td>\n",
              "      <td>0</td>\n",
              "      <td>0</td>\n",
              "      <td>0</td>\n",
              "      <td>0</td>\n",
              "      <td>0</td>\n",
              "      <td>0</td>\n",
              "      <td>0</td>\n",
              "      <td>0</td>\n",
              "      <td>0</td>\n",
              "      <td>0</td>\n",
              "      <td>0</td>\n",
              "      <td>0</td>\n",
              "      <td>0</td>\n",
              "      <td>0</td>\n",
              "      <td>0</td>\n",
              "      <td>0</td>\n",
              "      <td>0</td>\n",
              "      <td>0</td>\n",
              "      <td>0</td>\n",
              "      <td>0</td>\n",
              "      <td>0</td>\n",
              "      <td>0</td>\n",
              "      <td>0</td>\n",
              "      <td>0</td>\n",
              "      <td>0</td>\n",
              "      <td>0</td>\n",
              "      <td>0</td>\n",
              "      <td>0</td>\n",
              "      <td>0</td>\n",
              "      <td>0</td>\n",
              "      <td>1</td>\n",
              "      <td>1</td>\n",
              "      <td>1</td>\n",
              "      <td>...</td>\n",
              "      <td>38772</td>\n",
              "      <td>38815</td>\n",
              "      <td>38855</td>\n",
              "      <td>38872</td>\n",
              "      <td>38883</td>\n",
              "      <td>38919</td>\n",
              "      <td>39044</td>\n",
              "      <td>39074</td>\n",
              "      <td>39096</td>\n",
              "      <td>39145</td>\n",
              "      <td>39170</td>\n",
              "      <td>39186</td>\n",
              "      <td>39192</td>\n",
              "      <td>39227</td>\n",
              "      <td>39233</td>\n",
              "      <td>39254</td>\n",
              "      <td>39268</td>\n",
              "      <td>39285</td>\n",
              "      <td>39290</td>\n",
              "      <td>39297</td>\n",
              "      <td>39341</td>\n",
              "      <td>39422</td>\n",
              "      <td>39486</td>\n",
              "      <td>39548</td>\n",
              "      <td>39616</td>\n",
              "      <td>39693</td>\n",
              "      <td>39703</td>\n",
              "      <td>39799</td>\n",
              "      <td>39870</td>\n",
              "      <td>39928</td>\n",
              "      <td>39994</td>\n",
              "      <td>40026</td>\n",
              "      <td>40073</td>\n",
              "      <td>40141</td>\n",
              "      <td>40200</td>\n",
              "      <td>40287</td>\n",
              "      <td>40357</td>\n",
              "      <td>40510</td>\n",
              "      <td>40626</td>\n",
              "      <td>40687</td>\n",
              "    </tr>\n",
              "    <tr>\n",
              "      <th>1</th>\n",
              "      <td>NaN</td>\n",
              "      <td>Albania</td>\n",
              "      <td>41.15330</td>\n",
              "      <td>20.168300</td>\n",
              "      <td>0</td>\n",
              "      <td>0</td>\n",
              "      <td>0</td>\n",
              "      <td>0</td>\n",
              "      <td>0</td>\n",
              "      <td>0</td>\n",
              "      <td>0</td>\n",
              "      <td>0</td>\n",
              "      <td>0</td>\n",
              "      <td>0</td>\n",
              "      <td>0</td>\n",
              "      <td>0</td>\n",
              "      <td>0</td>\n",
              "      <td>0</td>\n",
              "      <td>0</td>\n",
              "      <td>0</td>\n",
              "      <td>0</td>\n",
              "      <td>0</td>\n",
              "      <td>0</td>\n",
              "      <td>0</td>\n",
              "      <td>0</td>\n",
              "      <td>0</td>\n",
              "      <td>0</td>\n",
              "      <td>0</td>\n",
              "      <td>0</td>\n",
              "      <td>0</td>\n",
              "      <td>0</td>\n",
              "      <td>0</td>\n",
              "      <td>0</td>\n",
              "      <td>0</td>\n",
              "      <td>0</td>\n",
              "      <td>0</td>\n",
              "      <td>0</td>\n",
              "      <td>0</td>\n",
              "      <td>0</td>\n",
              "      <td>0</td>\n",
              "      <td>...</td>\n",
              "      <td>11520</td>\n",
              "      <td>11672</td>\n",
              "      <td>11816</td>\n",
              "      <td>11948</td>\n",
              "      <td>12073</td>\n",
              "      <td>12226</td>\n",
              "      <td>12385</td>\n",
              "      <td>12535</td>\n",
              "      <td>12666</td>\n",
              "      <td>12787</td>\n",
              "      <td>12921</td>\n",
              "      <td>13045</td>\n",
              "      <td>13153</td>\n",
              "      <td>13259</td>\n",
              "      <td>13391</td>\n",
              "      <td>13518</td>\n",
              "      <td>13649</td>\n",
              "      <td>13806</td>\n",
              "      <td>13965</td>\n",
              "      <td>14117</td>\n",
              "      <td>14266</td>\n",
              "      <td>14410</td>\n",
              "      <td>14568</td>\n",
              "      <td>14730</td>\n",
              "      <td>14899</td>\n",
              "      <td>15066</td>\n",
              "      <td>15231</td>\n",
              "      <td>15399</td>\n",
              "      <td>15570</td>\n",
              "      <td>15752</td>\n",
              "      <td>15955</td>\n",
              "      <td>16212</td>\n",
              "      <td>16501</td>\n",
              "      <td>16774</td>\n",
              "      <td>17055</td>\n",
              "      <td>17350</td>\n",
              "      <td>17651</td>\n",
              "      <td>17948</td>\n",
              "      <td>18250</td>\n",
              "      <td>18556</td>\n",
              "    </tr>\n",
              "    <tr>\n",
              "      <th>2</th>\n",
              "      <td>NaN</td>\n",
              "      <td>Algeria</td>\n",
              "      <td>28.03390</td>\n",
              "      <td>1.659600</td>\n",
              "      <td>0</td>\n",
              "      <td>0</td>\n",
              "      <td>0</td>\n",
              "      <td>0</td>\n",
              "      <td>0</td>\n",
              "      <td>0</td>\n",
              "      <td>0</td>\n",
              "      <td>0</td>\n",
              "      <td>0</td>\n",
              "      <td>0</td>\n",
              "      <td>0</td>\n",
              "      <td>0</td>\n",
              "      <td>0</td>\n",
              "      <td>0</td>\n",
              "      <td>0</td>\n",
              "      <td>0</td>\n",
              "      <td>0</td>\n",
              "      <td>0</td>\n",
              "      <td>0</td>\n",
              "      <td>0</td>\n",
              "      <td>0</td>\n",
              "      <td>0</td>\n",
              "      <td>0</td>\n",
              "      <td>0</td>\n",
              "      <td>0</td>\n",
              "      <td>0</td>\n",
              "      <td>0</td>\n",
              "      <td>0</td>\n",
              "      <td>0</td>\n",
              "      <td>0</td>\n",
              "      <td>0</td>\n",
              "      <td>0</td>\n",
              "      <td>0</td>\n",
              "      <td>0</td>\n",
              "      <td>1</td>\n",
              "      <td>1</td>\n",
              "      <td>...</td>\n",
              "      <td>48496</td>\n",
              "      <td>48734</td>\n",
              "      <td>48966</td>\n",
              "      <td>49194</td>\n",
              "      <td>49413</td>\n",
              "      <td>49623</td>\n",
              "      <td>49826</td>\n",
              "      <td>50023</td>\n",
              "      <td>50214</td>\n",
              "      <td>50400</td>\n",
              "      <td>50579</td>\n",
              "      <td>50754</td>\n",
              "      <td>50914</td>\n",
              "      <td>51067</td>\n",
              "      <td>51213</td>\n",
              "      <td>51368</td>\n",
              "      <td>51530</td>\n",
              "      <td>51690</td>\n",
              "      <td>51847</td>\n",
              "      <td>51995</td>\n",
              "      <td>52136</td>\n",
              "      <td>52270</td>\n",
              "      <td>52399</td>\n",
              "      <td>52520</td>\n",
              "      <td>52658</td>\n",
              "      <td>52804</td>\n",
              "      <td>52940</td>\n",
              "      <td>53072</td>\n",
              "      <td>53325</td>\n",
              "      <td>53399</td>\n",
              "      <td>53584</td>\n",
              "      <td>53777</td>\n",
              "      <td>53998</td>\n",
              "      <td>54203</td>\n",
              "      <td>54402</td>\n",
              "      <td>54616</td>\n",
              "      <td>54829</td>\n",
              "      <td>55081</td>\n",
              "      <td>55357</td>\n",
              "      <td>55630</td>\n",
              "    </tr>\n",
              "    <tr>\n",
              "      <th>3</th>\n",
              "      <td>NaN</td>\n",
              "      <td>Andorra</td>\n",
              "      <td>42.50630</td>\n",
              "      <td>1.521800</td>\n",
              "      <td>0</td>\n",
              "      <td>0</td>\n",
              "      <td>0</td>\n",
              "      <td>0</td>\n",
              "      <td>0</td>\n",
              "      <td>0</td>\n",
              "      <td>0</td>\n",
              "      <td>0</td>\n",
              "      <td>0</td>\n",
              "      <td>0</td>\n",
              "      <td>0</td>\n",
              "      <td>0</td>\n",
              "      <td>0</td>\n",
              "      <td>0</td>\n",
              "      <td>0</td>\n",
              "      <td>0</td>\n",
              "      <td>0</td>\n",
              "      <td>0</td>\n",
              "      <td>0</td>\n",
              "      <td>0</td>\n",
              "      <td>0</td>\n",
              "      <td>0</td>\n",
              "      <td>0</td>\n",
              "      <td>0</td>\n",
              "      <td>0</td>\n",
              "      <td>0</td>\n",
              "      <td>0</td>\n",
              "      <td>0</td>\n",
              "      <td>0</td>\n",
              "      <td>0</td>\n",
              "      <td>0</td>\n",
              "      <td>0</td>\n",
              "      <td>0</td>\n",
              "      <td>0</td>\n",
              "      <td>0</td>\n",
              "      <td>0</td>\n",
              "      <td>...</td>\n",
              "      <td>1438</td>\n",
              "      <td>1438</td>\n",
              "      <td>1483</td>\n",
              "      <td>1483</td>\n",
              "      <td>1564</td>\n",
              "      <td>1564</td>\n",
              "      <td>1564</td>\n",
              "      <td>1681</td>\n",
              "      <td>1681</td>\n",
              "      <td>1753</td>\n",
              "      <td>1753</td>\n",
              "      <td>1836</td>\n",
              "      <td>1836</td>\n",
              "      <td>1836</td>\n",
              "      <td>1966</td>\n",
              "      <td>1966</td>\n",
              "      <td>2050</td>\n",
              "      <td>2050</td>\n",
              "      <td>2110</td>\n",
              "      <td>2110</td>\n",
              "      <td>2110</td>\n",
              "      <td>2370</td>\n",
              "      <td>2370</td>\n",
              "      <td>2568</td>\n",
              "      <td>2568</td>\n",
              "      <td>2696</td>\n",
              "      <td>2696</td>\n",
              "      <td>2696</td>\n",
              "      <td>2995</td>\n",
              "      <td>2995</td>\n",
              "      <td>3190</td>\n",
              "      <td>3190</td>\n",
              "      <td>3377</td>\n",
              "      <td>3377</td>\n",
              "      <td>3377</td>\n",
              "      <td>3623</td>\n",
              "      <td>3623</td>\n",
              "      <td>3811</td>\n",
              "      <td>3811</td>\n",
              "      <td>4038</td>\n",
              "    </tr>\n",
              "    <tr>\n",
              "      <th>4</th>\n",
              "      <td>NaN</td>\n",
              "      <td>Angola</td>\n",
              "      <td>-11.20270</td>\n",
              "      <td>17.873900</td>\n",
              "      <td>0</td>\n",
              "      <td>0</td>\n",
              "      <td>0</td>\n",
              "      <td>0</td>\n",
              "      <td>0</td>\n",
              "      <td>0</td>\n",
              "      <td>0</td>\n",
              "      <td>0</td>\n",
              "      <td>0</td>\n",
              "      <td>0</td>\n",
              "      <td>0</td>\n",
              "      <td>0</td>\n",
              "      <td>0</td>\n",
              "      <td>0</td>\n",
              "      <td>0</td>\n",
              "      <td>0</td>\n",
              "      <td>0</td>\n",
              "      <td>0</td>\n",
              "      <td>0</td>\n",
              "      <td>0</td>\n",
              "      <td>0</td>\n",
              "      <td>0</td>\n",
              "      <td>0</td>\n",
              "      <td>0</td>\n",
              "      <td>0</td>\n",
              "      <td>0</td>\n",
              "      <td>0</td>\n",
              "      <td>0</td>\n",
              "      <td>0</td>\n",
              "      <td>0</td>\n",
              "      <td>0</td>\n",
              "      <td>0</td>\n",
              "      <td>0</td>\n",
              "      <td>0</td>\n",
              "      <td>0</td>\n",
              "      <td>0</td>\n",
              "      <td>...</td>\n",
              "      <td>3439</td>\n",
              "      <td>3569</td>\n",
              "      <td>3675</td>\n",
              "      <td>3789</td>\n",
              "      <td>3848</td>\n",
              "      <td>3901</td>\n",
              "      <td>3991</td>\n",
              "      <td>4117</td>\n",
              "      <td>4236</td>\n",
              "      <td>4363</td>\n",
              "      <td>4475</td>\n",
              "      <td>4590</td>\n",
              "      <td>4672</td>\n",
              "      <td>4718</td>\n",
              "      <td>4797</td>\n",
              "      <td>4905</td>\n",
              "      <td>4972</td>\n",
              "      <td>5114</td>\n",
              "      <td>5211</td>\n",
              "      <td>5370</td>\n",
              "      <td>5402</td>\n",
              "      <td>5530</td>\n",
              "      <td>5725</td>\n",
              "      <td>5725</td>\n",
              "      <td>5958</td>\n",
              "      <td>6031</td>\n",
              "      <td>6246</td>\n",
              "      <td>6366</td>\n",
              "      <td>6488</td>\n",
              "      <td>6680</td>\n",
              "      <td>6846</td>\n",
              "      <td>7096</td>\n",
              "      <td>7222</td>\n",
              "      <td>7462</td>\n",
              "      <td>7622</td>\n",
              "      <td>7829</td>\n",
              "      <td>8049</td>\n",
              "      <td>8338</td>\n",
              "      <td>8582</td>\n",
              "      <td>8829</td>\n",
              "    </tr>\n",
              "  </tbody>\n",
              "</table>\n",
              "<p>5 rows × 280 columns</p>\n",
              "</div>"
            ],
            "text/plain": [
              "  Province/State Country/Region       Lat  ...  10/21/20  10/22/20  10/23/20\n",
              "0            NaN    Afghanistan  33.93911  ...     40510     40626     40687\n",
              "1            NaN        Albania  41.15330  ...     17948     18250     18556\n",
              "2            NaN        Algeria  28.03390  ...     55081     55357     55630\n",
              "3            NaN        Andorra  42.50630  ...      3811      3811      4038\n",
              "4            NaN         Angola -11.20270  ...      8338      8582      8829\n",
              "\n",
              "[5 rows x 280 columns]"
            ]
          },
          "metadata": {
            "tags": []
          },
          "execution_count": 39
        }
      ]
    },
    {
      "cell_type": "code",
      "metadata": {
        "id": "5G09FS77dUGu",
        "outputId": "e851c2e4-58fa-4191-e470-f0ea3625f809",
        "colab": {
          "base_uri": "https://localhost:8080/"
        }
      },
      "source": [
        "df_confirmed=df_confirmed.drop('Province/State',axis=1)\n",
        "df_confirmed.shape"
      ],
      "execution_count": 40,
      "outputs": [
        {
          "output_type": "execute_result",
          "data": {
            "text/plain": [
              "(267, 279)"
            ]
          },
          "metadata": {
            "tags": []
          },
          "execution_count": 40
        }
      ]
    },
    {
      "cell_type": "code",
      "metadata": {
        "id": "KmkayeWMdlkj",
        "outputId": "651e5331-bd80-4695-bd8f-32ee4b9804ef",
        "colab": {
          "base_uri": "https://localhost:8080/"
        }
      },
      "source": [
        "x=df_confirmed.iloc[2,3:]\n",
        "print(x)"
      ],
      "execution_count": 53,
      "outputs": [
        {
          "output_type": "stream",
          "text": [
            "1/22/20         0\n",
            "1/23/20         0\n",
            "1/24/20         0\n",
            "1/25/20         0\n",
            "1/26/20         0\n",
            "            ...  \n",
            "10/19/20    54616\n",
            "10/20/20    54829\n",
            "10/21/20    55081\n",
            "10/22/20    55357\n",
            "10/23/20    55630\n",
            "Name: 2, Length: 276, dtype: object\n"
          ],
          "name": "stdout"
        }
      ]
    },
    {
      "cell_type": "code",
      "metadata": {
        "id": "Im9klYu4e-Ty",
        "outputId": "f1367e0d-a58e-43d8-efd6-703609f629e7",
        "colab": {
          "base_uri": "https://localhost:8080/",
          "height": 294
        }
      },
      "source": [
        "x.plot()\n",
        "plt.title('confirmed case growth algeria',fontweight=\"bold\")\n",
        "plt.ylabel('numbers')\n",
        "plt.xlabel('date')\n",
        "plt.show()"
      ],
      "execution_count": 54,
      "outputs": [
        {
          "output_type": "display_data",
          "data": {
            "image/png": "[encoded data removed]",
            "text/plain": [
              "<Figure size 432x288 with 1 Axes>"
            ]
          },
          "metadata": {
            "tags": [],
            "needs_background": "light"
          }
        }
      ]
    },
    {
      "cell_type": "code",
      "metadata": {
        "id": "SPhmtjCqn6TW",
        "outputId": "31019629-2646-4d96-bd7c-fd086e990433",
        "colab": {
          "base_uri": "https://localhost:8080/"
        }
      },
      "source": [
        "df_deaths=pd.read_csv('time_series_covid19_deaths_global.csv')\n",
        "df_deaths.shape"
      ],
      "execution_count": 55,
      "outputs": [
        {
          "output_type": "execute_result",
          "data": {
            "text/plain": [
              "(267, 280)"
            ]
          },
          "metadata": {
            "tags": []
          },
          "execution_count": 55
        }
      ]
    },
    {
      "cell_type": "code",
      "metadata": {
        "id": "Y0Wl08JYoCBC",
        "outputId": "ff936076-2294-4223-c192-f5867e972846",
        "colab": {
          "base_uri": "https://localhost:8080/"
        }
      },
      "source": [
        "df_recovered=pd.read_csv('time_series_covid19_recovered_global.csv')\n",
        "df_recovered.shape"
      ],
      "execution_count": 56,
      "outputs": [
        {
          "output_type": "execute_result",
          "data": {
            "text/plain": [
              "(254, 280)"
            ]
          },
          "metadata": {
            "tags": []
          },
          "execution_count": 56
        }
      ]
    },
    {
      "cell_type": "code",
      "metadata": {
        "id": "kgnfG1Z_k4Ta"
      },
      "source": [
        "df_deaths=df_deaths.drop('Province/State',axis=1)\n",
        "x1=df_deaths.iloc[2,3:]\n",
        "df_recovered=df_recovered.drop('Province/State',axis=1)\n",
        "x2=df_recovered.iloc[2,3:]"
      ],
      "execution_count": 57,
      "outputs": []
    },
    {
      "cell_type": "code",
      "metadata": {
        "id": "Jrva8ajmowX_",
        "outputId": "12bfef7f-b11c-4c83-c5e6-da9e6bc2c6b5",
        "colab": {
          "base_uri": "https://localhost:8080/",
          "height": 294
        }
      },
      "source": [
        "x.plot()\n",
        "x1.plot()\n",
        "x2.plot()\n",
        "plt.legend(['confirmed','deaths','recovered'])\n",
        "plt.title('Covid cases growth, Algeria',fontweight=\"bold\")\n",
        "plt.ylabel('numbers')\n",
        "plt.xlabel('date')\n",
        "plt.show()"
      ],
      "execution_count": 59,
      "outputs": [
        {
          "output_type": "display_data",
          "data": {
            "image/png": "[encoded data removed]",
            "text/plain": [
              "<Figure size 432x288 with 1 Axes>"
            ]
          },
          "metadata": {
            "tags": [],
            "needs_background": "light"
          }
        }
      ]
    },
    {
      "cell_type": "code",
      "metadata": {
        "id": "RxE_IaGuvYzQ"
      },
      "source": [
        "countries={'Algeria':0,'Hungary':0,'Belgium':0,'Spain':0,'Austria':0,'Turkey':0}\n",
        "for i,rows in df_confirmed.iterrows():\n",
        "  region=df_confirmed.iloc[i,0]\n",
        "  if region in countries.keys():\n",
        "    countries[region]=i\n",
        "\n",
        "y1=df_confirmed.iloc[countries['Algeria'],3:]\n",
        "y2=df_confirmed.iloc[countries['Hungary'],3:]\n",
        "y3=df_confirmed.iloc[countries['Belgium'],3:]\n",
        "y4=df_confirmed.iloc[countries['Spain'],3:]\n",
        "y5=df_confirmed.iloc[countries['Austria'],3:]\n",
        "y6=df_confirmed.iloc[countries['Turkey'],3:]"
      ],
      "execution_count": 83,
      "outputs": []
    },
    {
      "cell_type": "code",
      "metadata": {
        "id": "-UKJAF0Dxqgx",
        "outputId": "e0c8f71a-5149-42b4-e644-577997590dff",
        "colab": {
          "base_uri": "https://localhost:8080/",
          "height": 967
        }
      },
      "source": [
        "fig, ax=plt.subplots(2,3,figsize=(15,15))\n",
        "fig.suptitle('Confirmed cases across different countries',fontweight='bold')\n",
        "ax[0,0].plot(y1)\n",
        "ax[0,0].set_xticks([])\n",
        "ax[0,0].set_title('Algeria')\n",
        "ax[0,1].plot(y2)\n",
        "ax[0,1].set_xticks([])\n",
        "ax[0,1].set_title('Hungary')\n",
        "ax[0,2].plot(y3)\n",
        "ax[0,2].set_xticks([])\n",
        "ax[0,2].set_title('Belgium')\n",
        "ax[1,0].plot(y4)\n",
        "ax[1,0].set_xticks([])\n",
        "ax[1,0].set_title('Spain')\n",
        "ax[1,1].plot(y5)\n",
        "ax[1,1].set_xticks([])\n",
        "ax[1,1].set_title('Austria')\n",
        "ax[1,2].plot(y6)\n",
        "ax[1,2].set_xticks([])\n",
        "ax[1,2].set_title('Turkey')\n",
        "\n",
        "for a in ax.flat:\n",
        "  a.set(xlabel='Date',ylabel='number of cases')\n",
        "for a in ax.flat:\n",
        "  a.label_outer()"
      ],
      "execution_count": 107,
      "outputs": [
        {
          "output_type": "display_data",
          "data": {
            "image/png": "[encoded data removed]",
            "text/plain": [
              "<Figure size 1080x1080 with 6 Axes>"
            ]
          },
          "metadata": {
            "tags": [],
            "needs_background": "light"
          }
        }
      ]
    },
    {
      "cell_type": "code",
      "metadata": {
        "id": "XwIk1cO0z3Nx",
        "outputId": "769c68f1-fd84-41bd-c2be-40c68073aebc",
        "colab": {
          "base_uri": "https://localhost:8080/",
          "height": 312
        }
      },
      "source": [
        "october_cases=df_confirmed.iloc[2,-23:]\n",
        "october_cases.plot()\n",
        "plt.title('October cases,Algeria',fontweight='bold')\n",
        "plt.xlabel('date')\n",
        "plt.ylabel('numbers')"
      ],
      "execution_count": 92,
      "outputs": [
        {
          "output_type": "execute_result",
          "data": {
            "text/plain": [
              "Text(0, 0.5, 'numbers')"
            ]
          },
          "metadata": {
            "tags": []
          },
          "execution_count": 92
        },
        {
          "output_type": "display_data",
          "data": {
            "image/png": "[encoded data removed]",
            "text/plain": [
              "<Figure size 432x288 with 1 Axes>"
            ]
          },
          "metadata": {
            "tags": [],
            "needs_background": "light"
          }
        }
      ]
    },
    {
      "cell_type": "code",
      "metadata": {
        "id": "YKOrJvkU2w_B"
      },
      "source": [
        ""
      ],
      "execution_count": null,
      "outputs": []
    }
  ]
}